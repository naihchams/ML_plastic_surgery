{
  "cells": [
    {
      "cell_type": "markdown",
      "metadata": {
        "id": "KzPNwd1XvEWQ"
      },
      "source": [
        "##Importing Libaries"
      ]
    },
    {
      "cell_type": "code",
      "execution_count": 1,
      "metadata": {
        "id": "_LMoY5AZvI9l"
      },
      "outputs": [],
      "source": [
        "import os\n",
        "import glob\n",
        "import cv2\n",
        "import numpy as np\n",
        "from sklearn.model_selection import train_test_split\n",
        "import matplotlib.pyplot as plt\n",
        "import random"
      ]
    },
    {
      "cell_type": "markdown",
      "metadata": {
        "id": "pasooIFyuOiu"
      },
      "source": [
        "##Data Preprocessing"
      ]
    },
    {
      "cell_type": "code",
      "execution_count": 2,
      "metadata": {
        "colab": {
          "base_uri": "https://localhost:8080/"
        },
        "id": "eshOX4TtryEG",
        "outputId": "13b97d27-548d-4127-8bb7-ba15c8b5614e"
      },
      "outputs": [
        {
          "output_type": "stream",
          "name": "stdout",
          "text": [
            "Mounted at /content/drive\n",
            "Training set size: (508, 256, 256, 3) (508, 256, 256, 3)\n",
            "Validation set size: (63, 256, 256, 3) (63, 256, 256, 3)\n",
            "Test set size: (64, 256, 256, 3) (64, 256, 256, 3)\n"
          ]
        }
      ],
      "source": [
        "#!unzip\n",
        "from google.colab import drive\n",
        "import zipfile\n",
        "import pandas as pd\n",
        "\n",
        "# Mount Google Drive\n",
        "drive.mount('/content/drive')\n",
        "\n",
        "# Path to the zip file in Google Drive\n",
        "zip_path = '/content/drive/My Drive/HDA-PlasticSurgery.zip'\n",
        "\n",
        "# Extract the zip file\n",
        "with zipfile.ZipFile(zip_path, 'r') as zip_ref:\n",
        "    zip_ref.extractall('/content')\n",
        "data_dir = '/content/'\n",
        "\n",
        "# List of surgery types\n",
        "surgery_types = ['Eyebrow', 'Eyelid', 'Facelift', 'FacialBones', 'Nose']\n",
        "\n",
        "# Desired image size\n",
        "img_height, img_width = 256, 256\n",
        "\n",
        "# Initialize lists to hold data and labels\n",
        "before_images = []\n",
        "after_images = []\n",
        "labels = []  # Optional: if you want to encode the surgery type as a label\n",
        "\n",
        "for s_type in surgery_types:\n",
        "    folder_path = os.path.join(data_dir, s_type)\n",
        "\n",
        "    # Get all images in the folder\n",
        "    all_images = sorted(glob.glob(os.path.join(folder_path, '*.jpg')))\n",
        "\n",
        "    # Group images by their base ID (e.g., '01' in '01_a.jpg' and '01_b.jpg')\n",
        "    # We assume each pair is something like \"XX_a.jpg\" and \"XX_b.jpg\"\n",
        "    # We'll create a dictionary to track pairs.\n",
        "    pairs = {}\n",
        "    for img_path in all_images:\n",
        "        filename = os.path.basename(img_path)\n",
        "        base_id = filename.split('_')[0]  # e.g., '01' from '01_a.jpg'\n",
        "        suffix = filename.split('_')[1].split('.')[0]  # 'a' or 'b'\n",
        "\n",
        "        if base_id not in pairs:\n",
        "            pairs[base_id] = {}\n",
        "        pairs[base_id][suffix] = img_path\n",
        "\n",
        "    # Now pairs dict should look like:\n",
        "    # {\n",
        "    #   \"01\": {\"a\": \"path/to/01_a.jpg\", \"b\": \"path/to/01_b.jpg\"},\n",
        "    #   \"02\": {\"a\": \"path/to/02_a.jpg\", \"b\": \"path/to/02_b.jpg\"},\n",
        "    #   ...\n",
        "    # }\n",
        "\n",
        "    # Load the images and append them to our datasets\n",
        "    for base_id, pair_paths in pairs.items():\n",
        "        if 'a' in pair_paths and 'b' in pair_paths:\n",
        "            # Load after (a) and before (b) images\n",
        "            after_img = cv2.imread(pair_paths['a'])\n",
        "            before_img = cv2.imread(pair_paths['b'])\n",
        "\n",
        "            # Convert to RGB if needed\n",
        "            after_img = cv2.cvtColor(after_img, cv2.COLOR_BGR2RGB)\n",
        "            before_img = cv2.cvtColor(before_img, cv2.COLOR_BGR2RGB)\n",
        "\n",
        "            # Resize images\n",
        "            after_img = cv2.resize(after_img, (img_width, img_height))\n",
        "            before_img = cv2.resize(before_img, (img_width, img_height))\n",
        "\n",
        "            # Normalize images to [0,1]\n",
        "            after_img = after_img.astype('float32') / 255.0\n",
        "            before_img = before_img.astype('float32') / 255.0\n",
        "\n",
        "            # Append to lists\n",
        "            after_images.append(after_img)\n",
        "            before_images.append(before_img)\n",
        "\n",
        "            # If you want to keep track of surgery type (e.g., one-hot encode it)\n",
        "            # This is optional and depends on your use case\n",
        "            labels.append(s_type)\n",
        "\n",
        "# Convert lists to numpy arrays\n",
        "before_images = np.array(before_images)\n",
        "after_images = np.array(after_images)\n",
        "\n",
        "# If using labels, convert to numpy array\n",
        "labels = np.array(labels)\n",
        "\n",
        "# Optional: If you want to encode surgery types as integers or one-hot vectors\n",
        "# For example, map them to integers:\n",
        "type_to_idx = {st: i for i, st in enumerate(surgery_types)}\n",
        "int_labels = np.array([type_to_idx[l] for l in labels])\n",
        "\n",
        "# Split into train, validation, test\n",
        "# Here, we split the entire dataset into 80% train, 10% val, 10% test\n",
        "X_train_before, X_temp_before, X_train_after, X_temp_after, y_train, y_temp = train_test_split(\n",
        "    before_images, after_images, int_labels, test_size=0.2, random_state=42, stratify=int_labels\n",
        ")\n",
        "\n",
        "X_val_before, X_test_before, X_val_after, X_test_after, y_val, y_test = train_test_split(\n",
        "    X_temp_before, X_temp_after, y_temp, test_size=0.5, random_state=42, stratify=y_temp\n",
        ")\n",
        "\n",
        "# Now you have:\n",
        "# X_train_before, X_train_after, y_train\n",
        "# X_val_before, X_val_after, y_val\n",
        "# X_test_before, X_test_after, y_test\n",
        "\n",
        "print(\"Training set size:\", X_train_before.shape, X_train_after.shape)\n",
        "print(\"Validation set size:\", X_val_before.shape, X_val_after.shape)\n",
        "print(\"Test set size:\", X_test_before.shape, X_test_after.shape)"
      ]
    },
    {
      "cell_type": "markdown",
      "metadata": {
        "id": "DvWu27rszAYP"
      },
      "source": [
        "##Dataset Visualization"
      ]
    },
    {
      "cell_type": "code",
      "execution_count": null,
      "metadata": {
        "id": "fLJjv3LazEcR"
      },
      "outputs": [],
      "source": [
        "import matplotlib.pyplot as plt\n",
        "import numpy as np\n",
        "import random\n",
        "\n",
        "# Assuming type_to_idx is already defined from the preprocessing step\n",
        "# Example:\n",
        "# type_to_idx = {'Eyebrow': 0, 'Eyelid': 1, 'Facelift': 2, 'FacialBones': 3, 'Nose': 4}\n",
        "\n",
        "# Create a reverse lookup dictionary to get surgery type names from integer labels\n",
        "idx_to_type = {v: k for k, v in type_to_idx.items()}\n",
        "\n",
        "def visualize_one_sample_per_type(X_before, X_after, y, type_to_idx):\n",
        "    \"\"\"\n",
        "    Visualizes one random before-and-after image pair for each surgery type.\n",
        "\n",
        "    Parameters:\n",
        "    - X_before: Numpy array of \"before\" images.\n",
        "    - X_after: Numpy array of \"after\" images.\n",
        "    - y: Numpy array of integer-encoded labels.\n",
        "    - type_to_idx: Dictionary mapping surgery type names to integer labels.\n",
        "    \"\"\"\n",
        "    num_types = len(type_to_idx)\n",
        "    surgery_types = list(type_to_idx.keys())\n",
        "\n",
        "    # Initialize a list to store selected indices\n",
        "    selected_indices = []\n",
        "\n",
        "    for s_type in surgery_types:\n",
        "        # Get the integer label for the current surgery type\n",
        "        label = type_to_idx[s_type]\n",
        "\n",
        "        # Find all indices where the label matches the current surgery type\n",
        "        indices = np.where(y == label)[0]\n",
        "\n",
        "        if len(indices) == 0:\n",
        "            print(f\"No samples found for surgery type: {s_type}\")\n",
        "            continue\n",
        "\n",
        "        # Randomly select one index from the available indices\n",
        "        selected_idx = random.choice(indices)\n",
        "        selected_indices.append(selected_idx)\n",
        "\n",
        "    # Number of valid surgery types with at least one sample\n",
        "    valid_num_types = len(selected_indices)\n",
        "\n",
        "    # Create a figure with subplots: rows = number of surgery types, cols = 2 (Before & After)\n",
        "    fig, axes = plt.subplots(nrows=valid_num_types, ncols=2, figsize=(10, 5 * valid_num_types))\n",
        "\n",
        "    # If there's only one surgery type, axes might not be a 2D array\n",
        "    if valid_num_types == 1:\n",
        "        axes = np.expand_dims(axes, axis=0)\n",
        "\n",
        "    for i, idx in enumerate(selected_indices):\n",
        "        s_type = idx_to_type[y[idx]]\n",
        "\n",
        "        # Before Image\n",
        "        before_img = X_before[idx]\n",
        "        axes[i, 0].imshow(before_img)\n",
        "        axes[i, 0].set_title(f\"Before - {s_type}\")\n",
        "        axes[i, 0].axis('off')\n",
        "\n",
        "        # After Image\n",
        "        after_img = X_after[idx]\n",
        "        axes[i, 1].imshow(after_img)\n",
        "        axes[i, 1].set_title(f\"After - {s_type}\")\n",
        "        axes[i, 1].axis('off')\n",
        "\n",
        "    plt.tight_layout()\n",
        "    plt.show()\n",
        "\n",
        "# Call the function to visualize one sample per surgery type from the training set\n",
        "visualize_one_sample_per_type(X_train_before, X_train_after, y_train, type_to_idx)"
      ]
    },
    {
      "cell_type": "markdown",
      "metadata": {
        "id": "WiG8wqPpuXbF"
      },
      "source": [
        "##Model Architecture\n",
        "*   Classifier (CNN): Identifies and ensures that the generated image matches the target surgery type.\n",
        "*   Generator (GAN): Produces the \"after\" image based on the input \"before\" image and surgery type.\n",
        "*   Discriminator (GAN): Evaluates whether the generated \"after\" image is realistic."
      ]
    },
    {
      "cell_type": "markdown",
      "source": [
        "**Generator:**\n",
        "Takes a \"before\" image and surgery type as input and generates a \"realistic after\" image."
      ],
      "metadata": {
        "id": "MuxdCg22i-_0"
      }
    },
    {
      "cell_type": "code",
      "execution_count": 4,
      "metadata": {
        "id": "oNCUrK-8tzTV"
      },
      "outputs": [],
      "source": [
        "from tensorflow.keras.layers import Input, Dense, Reshape, Flatten, Dropout, BatchNormalization, Conv2D, Conv2DTranspose, LeakyReLU, Embedding, Concatenate\n",
        "from tensorflow.keras.models import Model\n",
        "import tensorflow as tf\n",
        "\n",
        "def build_generator(img_shape, num_types):\n",
        "    input_img = Input(shape=img_shape, name='before_image')\n",
        "    surgery_type = Input(shape=(1,), name='surgery_type')\n",
        "\n",
        "    # Embed surgery type\n",
        "    surgery_embedding = Embedding(num_types, 50)(surgery_type)\n",
        "    surgery_embedding = Dense(img_shape[0] * img_shape[1], activation='relu')(surgery_embedding)\n",
        "    surgery_embedding = Reshape((img_shape[0], img_shape[1], 1))(surgery_embedding)\n",
        "\n",
        "    # Concatenate inputs\n",
        "    concatenated = Concatenate()([input_img, surgery_embedding])\n",
        "\n",
        "    # Generator network\n",
        "    x = Conv2D(64, kernel_size=4, strides=2, padding='same')(concatenated)\n",
        "    x = LeakyReLU(alpha=0.2)(x)\n",
        "    x = BatchNormalization()(x)\n",
        "\n",
        "    x = Conv2DTranspose(64, kernel_size=4, strides=2, padding='same')(x)\n",
        "    x = LeakyReLU(alpha=0.2)(x)\n",
        "    x = BatchNormalization()(x)\n",
        "\n",
        "    x = Conv2DTranspose(3, kernel_size=4, strides=2, padding='same', activation='tanh')(x)\n",
        "\n",
        "    generator = Model([input_img, surgery_type], x, name=\"generator\")\n",
        "    return generator\n"
      ]
    },
    {
      "cell_type": "markdown",
      "source": [
        "**Discriminator:**\n",
        "Evaluates whether the generated \"after\" image is realistic and consistent with the surgery type."
      ],
      "metadata": {
        "id": "GbYQ_ItfjmVk"
      }
    },
    {
      "cell_type": "code",
      "source": [
        "def build_discriminator(img_shape, num_types):\n",
        "    input_img = Input(shape=img_shape, name='after_image')\n",
        "    surgery_type = Input(shape=(1,), name='surgery_type')\n",
        "\n",
        "    # Embed surgery type\n",
        "    surgery_embedding = Embedding(num_types, 50)(surgery_type)\n",
        "    surgery_embedding = Dense(img_shape[0] * img_shape[1], activation='relu')(surgery_embedding)\n",
        "    surgery_embedding = Reshape((img_shape[0], img_shape[1], 1))(surgery_embedding)\n",
        "\n",
        "    # Concatenate inputs\n",
        "    concatenated = Concatenate()([input_img, surgery_embedding])\n",
        "\n",
        "    # Discriminator network\n",
        "    x = Conv2D(64, kernel_size=4, strides=2, padding='same')(concatenated)\n",
        "    x = LeakyReLU(alpha=0.2)(x)\n",
        "\n",
        "    x = Conv2D(128, kernel_size=4, strides=2, padding='same')(x)\n",
        "    x = LeakyReLU(alpha=0.2)(x)\n",
        "    x = Flatten()(x)\n",
        "    x = Dense(1, activation='sigmoid')(x)\n",
        "\n",
        "    discriminator = Model([input_img, surgery_type], x, name=\"discriminator\")\n",
        "    return discriminator\n"
      ],
      "metadata": {
        "id": "j0GoDdn7jx1t"
      },
      "execution_count": 5,
      "outputs": []
    },
    {
      "cell_type": "markdown",
      "source": [
        "**CNN:**\n",
        "classify the type of surgery based on \"before\" images."
      ],
      "metadata": {
        "id": "L2NzecvVtwP0"
      }
    },
    {
      "cell_type": "code",
      "source": [
        "from tensorflow.keras.models import Sequential\n",
        "from tensorflow.keras.layers import Conv2D, MaxPooling2D, Flatten, Dense, Dropout\n",
        "from tensorflow.keras.optimizers import Adam\n",
        "\n",
        "def build_cnn_classifier(img_shape, num_classes):\n",
        "    model = Sequential([\n",
        "        Conv2D(32, kernel_size=(3, 3), activation='relu', input_shape=img_shape),\n",
        "        MaxPooling2D(pool_size=(2, 2)),\n",
        "        Dropout(0.25),\n",
        "\n",
        "        Conv2D(64, kernel_size=(3, 3), activation='relu'),\n",
        "        MaxPooling2D(pool_size=(2, 2)),\n",
        "        Dropout(0.25),\n",
        "\n",
        "        Flatten(),\n",
        "        Dense(128, activation='relu'),\n",
        "        Dropout(0.5),\n",
        "        Dense(num_classes, activation='softmax')\n",
        "    ])\n",
        "\n",
        "    model.compile(optimizer=Adam(learning_rate=0.001),\n",
        "                  loss='sparse_categorical_crossentropy',\n",
        "                  metrics=['accuracy'])\n",
        "    return model\n",
        "\n",
        "# Example usage\n",
        "img_shape = (128, 128, 3) # Replace with your image dimensions\n",
        "num_classes = 5           # Replace with the number of surgery types\n",
        "classifier = build_cnn_classifier(img_shape, num_classes)\n",
        "classifier.summary()"
      ],
      "metadata": {
        "colab": {
          "base_uri": "https://localhost:8080/",
          "height": 504
        },
        "id": "u4_gttmxtsL5",
        "outputId": "7e4b30e5-9f23-4e15-f7cb-c690e78177ec"
      },
      "execution_count": 6,
      "outputs": [
        {
          "output_type": "stream",
          "name": "stderr",
          "text": [
            "/usr/local/lib/python3.10/dist-packages/keras/src/layers/convolutional/base_conv.py:107: UserWarning: Do not pass an `input_shape`/`input_dim` argument to a layer. When using Sequential models, prefer using an `Input(shape)` object as the first layer in the model instead.\n",
            "  super().__init__(activity_regularizer=activity_regularizer, **kwargs)\n"
          ]
        },
        {
          "output_type": "display_data",
          "data": {
            "text/plain": [
              "\u001b[1mModel: \"sequential\"\u001b[0m\n"
            ],
            "text/html": [
              "<pre style=\"white-space:pre;overflow-x:auto;line-height:normal;font-family:Menlo,'DejaVu Sans Mono',consolas,'Courier New',monospace\"><span style=\"font-weight: bold\">Model: \"sequential\"</span>\n",
              "</pre>\n"
            ]
          },
          "metadata": {}
        },
        {
          "output_type": "display_data",
          "data": {
            "text/plain": [
              "┏━━━━━━━━━━━━━━━━━━━━━━━━━━━━━━━━━━━━━━┳━━━━━━━━━━━━━━━━━━━━━━━━━━━━━┳━━━━━━━━━━━━━━━━━┓\n",
              "┃\u001b[1m \u001b[0m\u001b[1mLayer (type)                        \u001b[0m\u001b[1m \u001b[0m┃\u001b[1m \u001b[0m\u001b[1mOutput Shape               \u001b[0m\u001b[1m \u001b[0m┃\u001b[1m \u001b[0m\u001b[1m        Param #\u001b[0m\u001b[1m \u001b[0m┃\n",
              "┡━━━━━━━━━━━━━━━━━━━━━━━━━━━━━━━━━━━━━━╇━━━━━━━━━━━━━━━━━━━━━━━━━━━━━╇━━━━━━━━━━━━━━━━━┩\n",
              "│ conv2d (\u001b[38;5;33mConv2D\u001b[0m)                      │ (\u001b[38;5;45mNone\u001b[0m, \u001b[38;5;34m126\u001b[0m, \u001b[38;5;34m126\u001b[0m, \u001b[38;5;34m32\u001b[0m)        │             \u001b[38;5;34m896\u001b[0m │\n",
              "├──────────────────────────────────────┼─────────────────────────────┼─────────────────┤\n",
              "│ max_pooling2d (\u001b[38;5;33mMaxPooling2D\u001b[0m)         │ (\u001b[38;5;45mNone\u001b[0m, \u001b[38;5;34m63\u001b[0m, \u001b[38;5;34m63\u001b[0m, \u001b[38;5;34m32\u001b[0m)          │               \u001b[38;5;34m0\u001b[0m │\n",
              "├──────────────────────────────────────┼─────────────────────────────┼─────────────────┤\n",
              "│ dropout (\u001b[38;5;33mDropout\u001b[0m)                    │ (\u001b[38;5;45mNone\u001b[0m, \u001b[38;5;34m63\u001b[0m, \u001b[38;5;34m63\u001b[0m, \u001b[38;5;34m32\u001b[0m)          │               \u001b[38;5;34m0\u001b[0m │\n",
              "├──────────────────────────────────────┼─────────────────────────────┼─────────────────┤\n",
              "│ conv2d_1 (\u001b[38;5;33mConv2D\u001b[0m)                    │ (\u001b[38;5;45mNone\u001b[0m, \u001b[38;5;34m61\u001b[0m, \u001b[38;5;34m61\u001b[0m, \u001b[38;5;34m64\u001b[0m)          │          \u001b[38;5;34m18,496\u001b[0m │\n",
              "├──────────────────────────────────────┼─────────────────────────────┼─────────────────┤\n",
              "│ max_pooling2d_1 (\u001b[38;5;33mMaxPooling2D\u001b[0m)       │ (\u001b[38;5;45mNone\u001b[0m, \u001b[38;5;34m30\u001b[0m, \u001b[38;5;34m30\u001b[0m, \u001b[38;5;34m64\u001b[0m)          │               \u001b[38;5;34m0\u001b[0m │\n",
              "├──────────────────────────────────────┼─────────────────────────────┼─────────────────┤\n",
              "│ dropout_1 (\u001b[38;5;33mDropout\u001b[0m)                  │ (\u001b[38;5;45mNone\u001b[0m, \u001b[38;5;34m30\u001b[0m, \u001b[38;5;34m30\u001b[0m, \u001b[38;5;34m64\u001b[0m)          │               \u001b[38;5;34m0\u001b[0m │\n",
              "├──────────────────────────────────────┼─────────────────────────────┼─────────────────┤\n",
              "│ flatten (\u001b[38;5;33mFlatten\u001b[0m)                    │ (\u001b[38;5;45mNone\u001b[0m, \u001b[38;5;34m57600\u001b[0m)               │               \u001b[38;5;34m0\u001b[0m │\n",
              "├──────────────────────────────────────┼─────────────────────────────┼─────────────────┤\n",
              "│ dense (\u001b[38;5;33mDense\u001b[0m)                        │ (\u001b[38;5;45mNone\u001b[0m, \u001b[38;5;34m128\u001b[0m)                 │       \u001b[38;5;34m7,372,928\u001b[0m │\n",
              "├──────────────────────────────────────┼─────────────────────────────┼─────────────────┤\n",
              "│ dropout_2 (\u001b[38;5;33mDropout\u001b[0m)                  │ (\u001b[38;5;45mNone\u001b[0m, \u001b[38;5;34m128\u001b[0m)                 │               \u001b[38;5;34m0\u001b[0m │\n",
              "├──────────────────────────────────────┼─────────────────────────────┼─────────────────┤\n",
              "│ dense_1 (\u001b[38;5;33mDense\u001b[0m)                      │ (\u001b[38;5;45mNone\u001b[0m, \u001b[38;5;34m5\u001b[0m)                   │             \u001b[38;5;34m645\u001b[0m │\n",
              "└──────────────────────────────────────┴─────────────────────────────┴─────────────────┘\n"
            ],
            "text/html": [
              "<pre style=\"white-space:pre;overflow-x:auto;line-height:normal;font-family:Menlo,'DejaVu Sans Mono',consolas,'Courier New',monospace\">┏━━━━━━━━━━━━━━━━━━━━━━━━━━━━━━━━━━━━━━┳━━━━━━━━━━━━━━━━━━━━━━━━━━━━━┳━━━━━━━━━━━━━━━━━┓\n",
              "┃<span style=\"font-weight: bold\"> Layer (type)                         </span>┃<span style=\"font-weight: bold\"> Output Shape                </span>┃<span style=\"font-weight: bold\">         Param # </span>┃\n",
              "┡━━━━━━━━━━━━━━━━━━━━━━━━━━━━━━━━━━━━━━╇━━━━━━━━━━━━━━━━━━━━━━━━━━━━━╇━━━━━━━━━━━━━━━━━┩\n",
              "│ conv2d (<span style=\"color: #0087ff; text-decoration-color: #0087ff\">Conv2D</span>)                      │ (<span style=\"color: #00d7ff; text-decoration-color: #00d7ff\">None</span>, <span style=\"color: #00af00; text-decoration-color: #00af00\">126</span>, <span style=\"color: #00af00; text-decoration-color: #00af00\">126</span>, <span style=\"color: #00af00; text-decoration-color: #00af00\">32</span>)        │             <span style=\"color: #00af00; text-decoration-color: #00af00\">896</span> │\n",
              "├──────────────────────────────────────┼─────────────────────────────┼─────────────────┤\n",
              "│ max_pooling2d (<span style=\"color: #0087ff; text-decoration-color: #0087ff\">MaxPooling2D</span>)         │ (<span style=\"color: #00d7ff; text-decoration-color: #00d7ff\">None</span>, <span style=\"color: #00af00; text-decoration-color: #00af00\">63</span>, <span style=\"color: #00af00; text-decoration-color: #00af00\">63</span>, <span style=\"color: #00af00; text-decoration-color: #00af00\">32</span>)          │               <span style=\"color: #00af00; text-decoration-color: #00af00\">0</span> │\n",
              "├──────────────────────────────────────┼─────────────────────────────┼─────────────────┤\n",
              "│ dropout (<span style=\"color: #0087ff; text-decoration-color: #0087ff\">Dropout</span>)                    │ (<span style=\"color: #00d7ff; text-decoration-color: #00d7ff\">None</span>, <span style=\"color: #00af00; text-decoration-color: #00af00\">63</span>, <span style=\"color: #00af00; text-decoration-color: #00af00\">63</span>, <span style=\"color: #00af00; text-decoration-color: #00af00\">32</span>)          │               <span style=\"color: #00af00; text-decoration-color: #00af00\">0</span> │\n",
              "├──────────────────────────────────────┼─────────────────────────────┼─────────────────┤\n",
              "│ conv2d_1 (<span style=\"color: #0087ff; text-decoration-color: #0087ff\">Conv2D</span>)                    │ (<span style=\"color: #00d7ff; text-decoration-color: #00d7ff\">None</span>, <span style=\"color: #00af00; text-decoration-color: #00af00\">61</span>, <span style=\"color: #00af00; text-decoration-color: #00af00\">61</span>, <span style=\"color: #00af00; text-decoration-color: #00af00\">64</span>)          │          <span style=\"color: #00af00; text-decoration-color: #00af00\">18,496</span> │\n",
              "├──────────────────────────────────────┼─────────────────────────────┼─────────────────┤\n",
              "│ max_pooling2d_1 (<span style=\"color: #0087ff; text-decoration-color: #0087ff\">MaxPooling2D</span>)       │ (<span style=\"color: #00d7ff; text-decoration-color: #00d7ff\">None</span>, <span style=\"color: #00af00; text-decoration-color: #00af00\">30</span>, <span style=\"color: #00af00; text-decoration-color: #00af00\">30</span>, <span style=\"color: #00af00; text-decoration-color: #00af00\">64</span>)          │               <span style=\"color: #00af00; text-decoration-color: #00af00\">0</span> │\n",
              "├──────────────────────────────────────┼─────────────────────────────┼─────────────────┤\n",
              "│ dropout_1 (<span style=\"color: #0087ff; text-decoration-color: #0087ff\">Dropout</span>)                  │ (<span style=\"color: #00d7ff; text-decoration-color: #00d7ff\">None</span>, <span style=\"color: #00af00; text-decoration-color: #00af00\">30</span>, <span style=\"color: #00af00; text-decoration-color: #00af00\">30</span>, <span style=\"color: #00af00; text-decoration-color: #00af00\">64</span>)          │               <span style=\"color: #00af00; text-decoration-color: #00af00\">0</span> │\n",
              "├──────────────────────────────────────┼─────────────────────────────┼─────────────────┤\n",
              "│ flatten (<span style=\"color: #0087ff; text-decoration-color: #0087ff\">Flatten</span>)                    │ (<span style=\"color: #00d7ff; text-decoration-color: #00d7ff\">None</span>, <span style=\"color: #00af00; text-decoration-color: #00af00\">57600</span>)               │               <span style=\"color: #00af00; text-decoration-color: #00af00\">0</span> │\n",
              "├──────────────────────────────────────┼─────────────────────────────┼─────────────────┤\n",
              "│ dense (<span style=\"color: #0087ff; text-decoration-color: #0087ff\">Dense</span>)                        │ (<span style=\"color: #00d7ff; text-decoration-color: #00d7ff\">None</span>, <span style=\"color: #00af00; text-decoration-color: #00af00\">128</span>)                 │       <span style=\"color: #00af00; text-decoration-color: #00af00\">7,372,928</span> │\n",
              "├──────────────────────────────────────┼─────────────────────────────┼─────────────────┤\n",
              "│ dropout_2 (<span style=\"color: #0087ff; text-decoration-color: #0087ff\">Dropout</span>)                  │ (<span style=\"color: #00d7ff; text-decoration-color: #00d7ff\">None</span>, <span style=\"color: #00af00; text-decoration-color: #00af00\">128</span>)                 │               <span style=\"color: #00af00; text-decoration-color: #00af00\">0</span> │\n",
              "├──────────────────────────────────────┼─────────────────────────────┼─────────────────┤\n",
              "│ dense_1 (<span style=\"color: #0087ff; text-decoration-color: #0087ff\">Dense</span>)                      │ (<span style=\"color: #00d7ff; text-decoration-color: #00d7ff\">None</span>, <span style=\"color: #00af00; text-decoration-color: #00af00\">5</span>)                   │             <span style=\"color: #00af00; text-decoration-color: #00af00\">645</span> │\n",
              "└──────────────────────────────────────┴─────────────────────────────┴─────────────────┘\n",
              "</pre>\n"
            ]
          },
          "metadata": {}
        },
        {
          "output_type": "display_data",
          "data": {
            "text/plain": [
              "\u001b[1m Total params: \u001b[0m\u001b[38;5;34m7,392,965\u001b[0m (28.20 MB)\n"
            ],
            "text/html": [
              "<pre style=\"white-space:pre;overflow-x:auto;line-height:normal;font-family:Menlo,'DejaVu Sans Mono',consolas,'Courier New',monospace\"><span style=\"font-weight: bold\"> Total params: </span><span style=\"color: #00af00; text-decoration-color: #00af00\">7,392,965</span> (28.20 MB)\n",
              "</pre>\n"
            ]
          },
          "metadata": {}
        },
        {
          "output_type": "display_data",
          "data": {
            "text/plain": [
              "\u001b[1m Trainable params: \u001b[0m\u001b[38;5;34m7,392,965\u001b[0m (28.20 MB)\n"
            ],
            "text/html": [
              "<pre style=\"white-space:pre;overflow-x:auto;line-height:normal;font-family:Menlo,'DejaVu Sans Mono',consolas,'Courier New',monospace\"><span style=\"font-weight: bold\"> Trainable params: </span><span style=\"color: #00af00; text-decoration-color: #00af00\">7,392,965</span> (28.20 MB)\n",
              "</pre>\n"
            ]
          },
          "metadata": {}
        },
        {
          "output_type": "display_data",
          "data": {
            "text/plain": [
              "\u001b[1m Non-trainable params: \u001b[0m\u001b[38;5;34m0\u001b[0m (0.00 B)\n"
            ],
            "text/html": [
              "<pre style=\"white-space:pre;overflow-x:auto;line-height:normal;font-family:Menlo,'DejaVu Sans Mono',consolas,'Courier New',monospace\"><span style=\"font-weight: bold\"> Non-trainable params: </span><span style=\"color: #00af00; text-decoration-color: #00af00\">0</span> (0.00 B)\n",
              "</pre>\n"
            ]
          },
          "metadata": {}
        }
      ]
    },
    {
      "cell_type": "markdown",
      "source": [
        "**Data Preparation for GAN**"
      ],
      "metadata": {
        "id": "CYQgdor5vVm7"
      }
    },
    {
      "cell_type": "code",
      "source": [
        "def prepare_gan_data(before_images, after_images, labels, surgery_types):\n",
        "    \"\"\"\n",
        "    Prepares data for GAN training by combining images and labels.\n",
        "    \"\"\"\n",
        "    num_types = len(surgery_types)\n",
        "    type_to_idx = {st: i for i, st in enumerate(surgery_types)}\n",
        "\n",
        "    # Convert surgery types to one-hot encoding\n",
        "    one_hot_labels = np.eye(num_types)[labels]\n",
        "\n",
        "    # Generator input: before images + surgery type (as one-hot)\n",
        "    generator_input = [before_images, one_hot_labels]\n",
        "\n",
        "    # Discriminator input: real after images + surgery type (as one-hot)\n",
        "    discriminator_input_real = [after_images, one_hot_labels]\n",
        "\n",
        "    # Discriminator input: fake after images + surgery type (as one-hot)\n",
        "    # To be generated dynamically during GAN training.\n",
        "\n",
        "    return generator_input, discriminator_input_real\n"
      ],
      "metadata": {
        "id": "EIUGI0gvvUS8"
      },
      "execution_count": 7,
      "outputs": []
    },
    {
      "cell_type": "markdown",
      "metadata": {
        "id": "RKgiOmrOuerE"
      },
      "source": [
        "##Training Steps"
      ]
    },
    {
      "cell_type": "markdown",
      "source": [
        "Train the CNN"
      ],
      "metadata": {
        "id": "P00L6kp8vpAW"
      }
    },
    {
      "cell_type": "code",
      "execution_count": 8,
      "metadata": {
        "id": "J1e1i7s-tzmI",
        "colab": {
          "base_uri": "https://localhost:8080/"
        },
        "outputId": "b142f6df-ffd0-40c4-c0e3-ef09a465507c"
      },
      "outputs": [
        {
          "output_type": "stream",
          "name": "stdout",
          "text": [
            "Epoch 1/20\n",
            "\u001b[1m16/16\u001b[0m \u001b[32m━━━━━━━━━━━━━━━━━━━━\u001b[0m\u001b[37m\u001b[0m \u001b[1m29s\u001b[0m 987ms/step - accuracy: 0.2193 - loss: 11.4598 - val_accuracy: 0.2063 - val_loss: 1.6034\n",
            "Epoch 2/20\n",
            "\u001b[1m16/16\u001b[0m \u001b[32m━━━━━━━━━━━━━━━━━━━━\u001b[0m\u001b[37m\u001b[0m \u001b[1m1s\u001b[0m 65ms/step - accuracy: 0.2451 - loss: 1.5904 - val_accuracy: 0.3333 - val_loss: 1.5955\n",
            "Epoch 3/20\n",
            "\u001b[1m16/16\u001b[0m \u001b[32m━━━━━━━━━━━━━━━━━━━━\u001b[0m\u001b[37m\u001b[0m \u001b[1m1s\u001b[0m 63ms/step - accuracy: 0.3033 - loss: 1.5773 - val_accuracy: 0.2857 - val_loss: 1.5559\n",
            "Epoch 4/20\n",
            "\u001b[1m16/16\u001b[0m \u001b[32m━━━━━━━━━━━━━━━━━━━━\u001b[0m\u001b[37m\u001b[0m \u001b[1m1s\u001b[0m 63ms/step - accuracy: 0.3492 - loss: 1.5413 - val_accuracy: 0.3333 - val_loss: 1.5209\n",
            "Epoch 5/20\n",
            "\u001b[1m16/16\u001b[0m \u001b[32m━━━━━━━━━━━━━━━━━━━━\u001b[0m\u001b[37m\u001b[0m \u001b[1m1s\u001b[0m 63ms/step - accuracy: 0.3979 - loss: 1.4637 - val_accuracy: 0.3651 - val_loss: 1.4946\n",
            "Epoch 6/20\n",
            "\u001b[1m16/16\u001b[0m \u001b[32m━━━━━━━━━━━━━━━━━━━━\u001b[0m\u001b[37m\u001b[0m \u001b[1m1s\u001b[0m 65ms/step - accuracy: 0.4294 - loss: 1.3470 - val_accuracy: 0.4286 - val_loss: 1.4213\n",
            "Epoch 7/20\n",
            "\u001b[1m16/16\u001b[0m \u001b[32m━━━━━━━━━━━━━━━━━━━━\u001b[0m\u001b[37m\u001b[0m \u001b[1m1s\u001b[0m 68ms/step - accuracy: 0.5085 - loss: 1.2730 - val_accuracy: 0.4286 - val_loss: 1.3835\n",
            "Epoch 8/20\n",
            "\u001b[1m16/16\u001b[0m \u001b[32m━━━━━━━━━━━━━━━━━━━━\u001b[0m\u001b[37m\u001b[0m \u001b[1m1s\u001b[0m 67ms/step - accuracy: 0.6670 - loss: 1.0411 - val_accuracy: 0.4444 - val_loss: 1.3947\n",
            "Epoch 9/20\n",
            "\u001b[1m16/16\u001b[0m \u001b[32m━━━━━━━━━━━━━━━━━━━━\u001b[0m\u001b[37m\u001b[0m \u001b[1m1s\u001b[0m 63ms/step - accuracy: 0.6631 - loss: 0.8939 - val_accuracy: 0.5079 - val_loss: 1.2947\n",
            "Epoch 10/20\n",
            "\u001b[1m16/16\u001b[0m \u001b[32m━━━━━━━━━━━━━━━━━━━━\u001b[0m\u001b[37m\u001b[0m \u001b[1m1s\u001b[0m 62ms/step - accuracy: 0.7736 - loss: 0.6999 - val_accuracy: 0.4444 - val_loss: 1.4562\n",
            "Epoch 11/20\n",
            "\u001b[1m16/16\u001b[0m \u001b[32m━━━━━━━━━━━━━━━━━━━━\u001b[0m\u001b[37m\u001b[0m \u001b[1m1s\u001b[0m 62ms/step - accuracy: 0.8309 - loss: 0.5195 - val_accuracy: 0.4603 - val_loss: 1.4622\n",
            "Epoch 12/20\n",
            "\u001b[1m16/16\u001b[0m \u001b[32m━━━━━━━━━━━━━━━━━━━━\u001b[0m\u001b[37m\u001b[0m \u001b[1m1s\u001b[0m 62ms/step - accuracy: 0.8839 - loss: 0.4053 - val_accuracy: 0.4603 - val_loss: 1.4122\n",
            "Epoch 13/20\n",
            "\u001b[1m16/16\u001b[0m \u001b[32m━━━━━━━━━━━━━━━━━━━━\u001b[0m\u001b[37m\u001b[0m \u001b[1m1s\u001b[0m 63ms/step - accuracy: 0.9437 - loss: 0.2684 - val_accuracy: 0.4762 - val_loss: 1.6018\n",
            "Epoch 14/20\n",
            "\u001b[1m16/16\u001b[0m \u001b[32m━━━━━━━━━━━━━━━━━━━━\u001b[0m\u001b[37m\u001b[0m \u001b[1m1s\u001b[0m 63ms/step - accuracy: 0.9562 - loss: 0.1942 - val_accuracy: 0.5397 - val_loss: 1.6877\n",
            "Epoch 15/20\n",
            "\u001b[1m16/16\u001b[0m \u001b[32m━━━━━━━━━━━━━━━━━━━━\u001b[0m\u001b[37m\u001b[0m \u001b[1m1s\u001b[0m 62ms/step - accuracy: 0.9675 - loss: 0.1710 - val_accuracy: 0.4762 - val_loss: 1.8655\n",
            "Epoch 16/20\n",
            "\u001b[1m16/16\u001b[0m \u001b[32m━━━━━━━━━━━━━━━━━━━━\u001b[0m\u001b[37m\u001b[0m \u001b[1m1s\u001b[0m 62ms/step - accuracy: 0.9530 - loss: 0.1714 - val_accuracy: 0.5079 - val_loss: 1.7467\n",
            "Epoch 17/20\n",
            "\u001b[1m16/16\u001b[0m \u001b[32m━━━━━━━━━━━━━━━━━━━━\u001b[0m\u001b[37m\u001b[0m \u001b[1m1s\u001b[0m 62ms/step - accuracy: 0.9583 - loss: 0.1334 - val_accuracy: 0.4921 - val_loss: 1.9220\n",
            "Epoch 18/20\n",
            "\u001b[1m16/16\u001b[0m \u001b[32m━━━━━━━━━━━━━━━━━━━━\u001b[0m\u001b[37m\u001b[0m \u001b[1m1s\u001b[0m 69ms/step - accuracy: 0.9613 - loss: 0.1116 - val_accuracy: 0.5238 - val_loss: 2.1656\n",
            "Epoch 19/20\n",
            "\u001b[1m16/16\u001b[0m \u001b[32m━━━━━━━━━━━━━━━━━━━━\u001b[0m\u001b[37m\u001b[0m \u001b[1m1s\u001b[0m 66ms/step - accuracy: 0.9890 - loss: 0.0617 - val_accuracy: 0.4762 - val_loss: 2.0082\n",
            "Epoch 20/20\n",
            "\u001b[1m16/16\u001b[0m \u001b[32m━━━━━━━━━━━━━━━━━━━━\u001b[0m\u001b[37m\u001b[0m \u001b[1m1s\u001b[0m 68ms/step - accuracy: 0.9887 - loss: 0.0695 - val_accuracy: 0.4603 - val_loss: 2.4192\n"
          ]
        },
        {
          "output_type": "stream",
          "name": "stderr",
          "text": [
            "WARNING:absl:You are saving your model as an HDF5 file via `model.save()` or `keras.saving.save_model(model)`. This file format is considered legacy. We recommend using instead the native Keras format, e.g. `model.save('my_model.keras')` or `keras.saving.save_model(model, 'my_model.keras')`. \n"
          ]
        }
      ],
      "source": [
        "# Build and compile the CNN classifier\n",
        "img_shape = X_train_before.shape[1:]  # Get image shape from training data\n",
        "num_classes = len(surgery_types)     # Number of surgery types\n",
        "classifier = build_cnn_classifier(img_shape, num_classes)\n",
        "\n",
        "# Train the CNN\n",
        "history = classifier.fit(X_train_before, y_train, validation_data=(X_val_before, y_val), epochs=20, batch_size=32)\n",
        "classifier.save(\"cnn_classifier_model.h5\")"
      ]
    },
    {
      "cell_type": "code",
      "source": [
        "import matplotlib.pyplot as plt\n",
        "\n",
        "# Extract accuracy and loss values from the history object\n",
        "acc = history.history['accuracy']\n",
        "val_acc = history.history['val_accuracy']\n",
        "loss = history.history['loss']\n",
        "val_loss = history.history['val_loss']\n",
        "\n",
        "# Get the number of epochs\n",
        "epochs = range(1, len(acc) + 1)\n",
        "\n",
        "# Plot accuracy\n",
        "plt.figure(figsize=(12, 5))\n",
        "\n",
        "plt.subplot(1, 2, 1)\n",
        "plt.plot(epochs, acc, 'bo-', label='Training Accuracy')\n",
        "plt.plot(epochs, val_acc, 'ro-', label='Validation Accuracy')\n",
        "plt.title('Training and Validation Accuracy')\n",
        "plt.xlabel('Epochs')\n",
        "plt.ylabel('Accuracy')\n",
        "plt.legend()\n",
        "\n",
        "# Plot loss\n",
        "plt.subplot(1, 2, 2)\n",
        "plt.plot(epochs, loss, 'bo-', label='Training Loss')\n",
        "plt.plot(epochs, val_loss, 'ro-', label='Validation Loss')\n",
        "plt.title('Training and Validation Loss')\n",
        "plt.xlabel('Epochs')\n",
        "plt.ylabel('Loss')\n",
        "plt.legend()\n",
        "\n",
        "# Show the plots\n",
        "plt.tight_layout()\n",
        "plt.show()\n"
      ],
      "metadata": {
        "colab": {
          "base_uri": "https://localhost:8080/",
          "height": 476
        },
        "id": "S6XKscQFHwgo",
        "outputId": "c820d609-886c-463e-8f93-72ab0a7bfd8c"
      },
      "execution_count": 9,
      "outputs": [
        {
          "output_type": "display_data",
          "data": {
            "text/plain": [
              "<Figure size 1200x500 with 2 Axes>"
            ],
            "image/png": "[encoded data removed]"
          },
          "metadata": {}
        }
      ]
    },
    {
      "cell_type": "markdown",
      "source": [
        "**Train GAN Function:** It combines the generator and discriminator into a single pipeline for GAN training. The function uses the adversarial training approach to train both models alternately."
      ],
      "metadata": {
        "id": "DjVCCkvV6MBD"
      }
    },
    {
      "cell_type": "code",
      "source": [
        "def train_gan(generator, discriminator, img_shape, surgery_types, epochs=10000, batch_size=32, save_interval=500):\n",
        "    \"\"\"\n",
        "    Trains the GAN by alternately training the generator and discriminator.\n",
        "\n",
        "    Parameters:\n",
        "    - generator: The generator model.\n",
        "    - discriminator: The discriminator model.\n",
        "    - img_shape: Shape of the input images (height, width, channels).\n",
        "    - surgery_types: List of surgery type labels.\n",
        "    - epochs: Number of training iterations.\n",
        "    - batch_size: Number of samples per training batch.\n",
        "    - save_interval: Frequency (in epochs) to save and visualize results.\n",
        "    \"\"\"\n",
        "    # Number of surgery types\n",
        "    num_types = len(surgery_types)\n",
        "\n",
        "    # Compile discriminator\n",
        "    discriminator.compile(loss='binary_crossentropy', optimizer=Adam(0.0002, 0.5), metrics=['accuracy'])\n",
        "\n",
        "    # Combine generator and discriminator for adversarial training\n",
        "    z_before = Input(shape=img_shape)  # Input for before image\n",
        "    z_label = Input(shape=(num_types,))  # Input for surgery type (one-hot encoded)\n",
        "\n",
        "    # Generate fake after images\n",
        "    fake_after = generator([z_before, z_label])\n",
        "\n",
        "    # Freeze the discriminator when training the generator\n",
        "    discriminator.trainable = False\n",
        "\n",
        "    # Get discriminator output for generated images\n",
        "    valid = discriminator([fake_after, z_label])\n",
        "\n",
        "    # Combined model (generator + discriminator)\n",
        "    combined = Model([z_before, z_label], valid)\n",
        "    combined.compile(loss='binary_crossentropy', optimizer=Adam(0.0002, 0.5))\n",
        "\n",
        "    # Training data placeholders\n",
        "    valid_labels = np.ones((batch_size, 1))  # Labels for real images\n",
        "    fake_labels = np.zeros((batch_size, 1))  # Labels for fake images\n",
        "\n",
        "    for epoch in range(epochs):\n",
        "        # -------------------------\n",
        "        # Train Discriminator\n",
        "        # -------------------------\n",
        "\n",
        "        # Select a random batch of before images and corresponding surgery types\n",
        "        idx = np.random.randint(0, before_images.shape[0], batch_size)\n",
        "        real_before = before_images[idx]\n",
        "        real_after = after_images[idx]\n",
        "        labels = int_labels[idx]\n",
        "\n",
        "        # One-hot encode surgery type labels\n",
        "        labels_one_hot = tf.keras.utils.to_categorical(labels, num_classes=num_types)\n",
        "\n",
        "        # Generate fake after images\n",
        "        fake_after = generator.predict([real_before, labels_one_hot])\n",
        "\n",
        "        # Train the discriminator\n",
        "        d_loss_real = discriminator.train_on_batch([real_after, labels_one_hot], valid_labels)\n",
        "        d_loss_fake = discriminator.train_on_batch([fake_after, labels_one_hot], fake_labels)\n",
        "        d_loss = 0.5 * np.add(d_loss_real, d_loss_fake)\n",
        "\n",
        "        # -------------------------\n",
        "        # Train Generator\n",
        "        # -------------------------\n",
        "\n",
        "        # Train the generator (discriminator should predict valid for generated images)\n",
        "        g_loss = combined.train_on_batch([real_before, labels_one_hot], valid_labels)\n",
        "\n",
        "        # Print progress\n",
        "        print(f\"{epoch + 1}/{epochs} [D loss: {d_loss[0]:.4f}, acc.: {100 * d_loss[1]:.2f}%] [G loss: {g_loss:.4f}]\")\n",
        "\n",
        "        # If at save interval, save and visualize results\n",
        "        if (epoch + 1) % save_interval == 0:\n",
        "            save_and_visualize_results(epoch + 1, generator, surgery_types)\n",
        "\n",
        "\n",
        "#surgery_types = [\"Type A\", \"Type B\", \"Type C\", \"Type D\", \"Type E\"]\n",
        "#save_interval = 500\n",
        "\n",
        "#train_gan(generator, discriminator, img_shape, surgery_types, epochs=10000, batch_size=32, save_interval=save_interval)\n",
        "\n"
      ],
      "metadata": {
        "id": "jnLK-uJz6LXb"
      },
      "execution_count": null,
      "outputs": []
    },
    {
      "cell_type": "markdown",
      "source": [
        "Saves and visualizes generated images during GAN training."
      ],
      "metadata": {
        "id": "JueZffJL6kXK"
      }
    },
    {
      "cell_type": "code",
      "source": [
        "#should run this before the previous cell\n",
        "def save_and_visualize_results(epoch, generator, surgery_types):\n",
        "    \"\"\"\n",
        "    Saves and visualizes generated images during GAN training.\n",
        "\n",
        "    Parameters:\n",
        "    - epoch: Current epoch number.\n",
        "    - generator: The generator model.\n",
        "    - surgery_types: List of surgery type labels.\n",
        "    \"\"\"\n",
        "    r, c = 2, len(surgery_types)  # Rows and columns for visualization grid\n",
        "    fig, axs = plt.subplots(r, c, figsize=(c * 2, r * 2))\n",
        "\n",
        "    for i, s_type in enumerate(surgery_types):\n",
        "        # Select a random before image\n",
        "        idx = np.random.randint(0, before_images.shape[0])\n",
        "        before_img = before_images[idx:idx + 1]\n",
        "\n",
        "        # One-hot encode surgery type\n",
        "        s_label = np.zeros((1, len(surgery_types)))\n",
        "        s_label[0, i] = 1\n",
        "\n",
        "        # Generate after image\n",
        "        generated_img = generator.predict([before_img, s_label])[0]\n",
        "\n",
        "        # Plot before image\n",
        "        axs[0, i].imshow(before_img[0])\n",
        "        axs[0, i].set_title(f\"Before ({s_type})\")\n",
        "        axs[0, i].axis('off')\n",
        "\n",
        "        # Plot generated after image\n",
        "        axs[1, i].imshow(generated_img)\n",
        "        axs[1, i].set_title(f\"Generated After ({s_type})\")\n",
        "        axs[1, i].axis('off')\n",
        "\n",
        "    plt.tight_layout()\n",
        "    plt.savefig(f\"generated_images_epoch_{epoch}.png\")\n",
        "    plt.show()\n"
      ],
      "metadata": {
        "id": "4DnVIKav6g-i"
      },
      "execution_count": null,
      "outputs": []
    },
    {
      "cell_type": "markdown",
      "metadata": {
        "id": "6jyqopgYuhwD"
      },
      "source": [
        "##Evaluation"
      ]
    },
    {
      "cell_type": "code",
      "execution_count": null,
      "metadata": {
        "id": "DaQ5tX4Vtzww"
      },
      "outputs": [],
      "source": []
    }
  ],
  "metadata": {
    "accelerator": "GPU",
    "colab": {
      "gpuType": "T4",
      "provenance": []
    },
    "kernelspec": {
      "display_name": "Python 3",
      "name": "python3"
    },
    "language_info": {
      "name": "python"
    }
  },
  "nbformat": 4,
  "nbformat_minor": 0
}